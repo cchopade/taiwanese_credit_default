{
 "cells": [
  {
   "cell_type": "code",
   "execution_count": 350,
   "metadata": {
    "collapsed": true
   },
   "outputs": [],
   "source": [
    "import numpy as np \n",
    "import pandas as pd\n",
    "%matplotlib inline\n",
    "import matplotlib.pyplot as plt  \n",
    "import seaborn as sns\n",
    "from scipy import stats\n",
    "from sklearn.model_selection import train_test_split\n",
    "from sklearn.linear_model import LogisticRegression\n",
    "from sklearn.metrics import accuracy_score"
   ]
  },
  {
   "cell_type": "code",
   "execution_count": 351,
   "metadata": {},
   "outputs": [
    {
     "name": "stdout",
     "output_type": "stream",
     "text": [
      "(30000, 26)\n"
     ]
    }
   ],
   "source": [
    "data = pd.read_csv('nt-1012.csv',header=0)\n",
    "data.head()\n",
    "list(data)\n",
    "print (data.shape)"
   ]
  },
  {
   "cell_type": "code",
   "execution_count": 352,
   "metadata": {},
   "outputs": [
    {
     "data": {
      "text/html": [
       "<div>\n",
       "<style>\n",
       "    .dataframe thead tr:only-child th {\n",
       "        text-align: right;\n",
       "    }\n",
       "\n",
       "    .dataframe thead th {\n",
       "        text-align: left;\n",
       "    }\n",
       "\n",
       "    .dataframe tbody tr th {\n",
       "        vertical-align: top;\n",
       "    }\n",
       "</style>\n",
       "<table border=\"1\" class=\"dataframe\">\n",
       "  <thead>\n",
       "    <tr style=\"text-align: right;\">\n",
       "      <th></th>\n",
       "      <th>Unnamed: 0</th>\n",
       "      <th>ID</th>\n",
       "      <th>LIMIT_BAL</th>\n",
       "      <th>SEX</th>\n",
       "      <th>EDUCATION</th>\n",
       "      <th>MARRIAGE</th>\n",
       "      <th>AGE</th>\n",
       "      <th>PAY_6</th>\n",
       "      <th>PAY_5</th>\n",
       "      <th>PAY_4</th>\n",
       "      <th>...</th>\n",
       "      <th>BILL_AMT3</th>\n",
       "      <th>BILL_AMT2</th>\n",
       "      <th>BILL_AMT1</th>\n",
       "      <th>PAY_AMT6</th>\n",
       "      <th>PAY_AMT5</th>\n",
       "      <th>PAY_AMT4</th>\n",
       "      <th>PAY_AMT3</th>\n",
       "      <th>PAY_AMT2</th>\n",
       "      <th>PAY_AMT1</th>\n",
       "      <th>TARGET</th>\n",
       "    </tr>\n",
       "  </thead>\n",
       "  <tbody>\n",
       "    <tr>\n",
       "      <th>0</th>\n",
       "      <td>0</td>\n",
       "      <td>1</td>\n",
       "      <td>20000</td>\n",
       "      <td>2</td>\n",
       "      <td>2</td>\n",
       "      <td>1</td>\n",
       "      <td>24</td>\n",
       "      <td>1</td>\n",
       "      <td>1</td>\n",
       "      <td>-1</td>\n",
       "      <td>...</td>\n",
       "      <td>0</td>\n",
       "      <td>0</td>\n",
       "      <td>0</td>\n",
       "      <td>0</td>\n",
       "      <td>689</td>\n",
       "      <td>0</td>\n",
       "      <td>0</td>\n",
       "      <td>0</td>\n",
       "      <td>0</td>\n",
       "      <td>1</td>\n",
       "    </tr>\n",
       "    <tr>\n",
       "      <th>1</th>\n",
       "      <td>1</td>\n",
       "      <td>2</td>\n",
       "      <td>120000</td>\n",
       "      <td>2</td>\n",
       "      <td>2</td>\n",
       "      <td>2</td>\n",
       "      <td>26</td>\n",
       "      <td>-1</td>\n",
       "      <td>1</td>\n",
       "      <td>0</td>\n",
       "      <td>...</td>\n",
       "      <td>3272</td>\n",
       "      <td>3455</td>\n",
       "      <td>3261</td>\n",
       "      <td>0</td>\n",
       "      <td>1000</td>\n",
       "      <td>1000</td>\n",
       "      <td>1000</td>\n",
       "      <td>0</td>\n",
       "      <td>2000</td>\n",
       "      <td>1</td>\n",
       "    </tr>\n",
       "    <tr>\n",
       "      <th>2</th>\n",
       "      <td>2</td>\n",
       "      <td>3</td>\n",
       "      <td>90000</td>\n",
       "      <td>2</td>\n",
       "      <td>2</td>\n",
       "      <td>2</td>\n",
       "      <td>34</td>\n",
       "      <td>0</td>\n",
       "      <td>0</td>\n",
       "      <td>0</td>\n",
       "      <td>...</td>\n",
       "      <td>14331</td>\n",
       "      <td>14948</td>\n",
       "      <td>15549</td>\n",
       "      <td>1518</td>\n",
       "      <td>1500</td>\n",
       "      <td>1000</td>\n",
       "      <td>1000</td>\n",
       "      <td>1000</td>\n",
       "      <td>5000</td>\n",
       "      <td>0</td>\n",
       "    </tr>\n",
       "    <tr>\n",
       "      <th>3</th>\n",
       "      <td>3</td>\n",
       "      <td>4</td>\n",
       "      <td>50000</td>\n",
       "      <td>2</td>\n",
       "      <td>2</td>\n",
       "      <td>1</td>\n",
       "      <td>37</td>\n",
       "      <td>0</td>\n",
       "      <td>0</td>\n",
       "      <td>0</td>\n",
       "      <td>...</td>\n",
       "      <td>28314</td>\n",
       "      <td>28959</td>\n",
       "      <td>29547</td>\n",
       "      <td>2000</td>\n",
       "      <td>2019</td>\n",
       "      <td>1200</td>\n",
       "      <td>1100</td>\n",
       "      <td>1069</td>\n",
       "      <td>1000</td>\n",
       "      <td>0</td>\n",
       "    </tr>\n",
       "    <tr>\n",
       "      <th>4</th>\n",
       "      <td>4</td>\n",
       "      <td>5</td>\n",
       "      <td>50000</td>\n",
       "      <td>1</td>\n",
       "      <td>2</td>\n",
       "      <td>1</td>\n",
       "      <td>57</td>\n",
       "      <td>-1</td>\n",
       "      <td>0</td>\n",
       "      <td>-1</td>\n",
       "      <td>...</td>\n",
       "      <td>20940</td>\n",
       "      <td>19146</td>\n",
       "      <td>19131</td>\n",
       "      <td>2000</td>\n",
       "      <td>36681</td>\n",
       "      <td>10000</td>\n",
       "      <td>9000</td>\n",
       "      <td>689</td>\n",
       "      <td>679</td>\n",
       "      <td>0</td>\n",
       "    </tr>\n",
       "  </tbody>\n",
       "</table>\n",
       "<p>5 rows × 26 columns</p>\n",
       "</div>"
      ],
      "text/plain": [
       "   Unnamed: 0  ID  LIMIT_BAL  SEX  EDUCATION  MARRIAGE  AGE  PAY_6  PAY_5  \\\n",
       "0           0   1      20000    2          2         1   24      1      1   \n",
       "1           1   2     120000    2          2         2   26     -1      1   \n",
       "2           2   3      90000    2          2         2   34      0      0   \n",
       "3           3   4      50000    2          2         1   37      0      0   \n",
       "4           4   5      50000    1          2         1   57     -1      0   \n",
       "\n",
       "   PAY_4   ...    BILL_AMT3  BILL_AMT2  BILL_AMT1  PAY_AMT6  PAY_AMT5  \\\n",
       "0     -1   ...            0          0          0         0       689   \n",
       "1      0   ...         3272       3455       3261         0      1000   \n",
       "2      0   ...        14331      14948      15549      1518      1500   \n",
       "3      0   ...        28314      28959      29547      2000      2019   \n",
       "4     -1   ...        20940      19146      19131      2000     36681   \n",
       "\n",
       "   PAY_AMT4  PAY_AMT3  PAY_AMT2  PAY_AMT1  TARGET  \n",
       "0         0         0         0         0       1  \n",
       "1      1000      1000         0      2000       1  \n",
       "2      1000      1000      1000      5000       0  \n",
       "3      1200      1100      1069      1000       0  \n",
       "4     10000      9000       689       679       0  \n",
       "\n",
       "[5 rows x 26 columns]"
      ]
     },
     "execution_count": 352,
     "metadata": {},
     "output_type": "execute_result"
    }
   ],
   "source": [
    "data.head()"
   ]
  },
  {
   "cell_type": "code",
   "execution_count": 353,
   "metadata": {
    "collapsed": true
   },
   "outputs": [],
   "source": [
    "# change the anamoly in data\n",
    "fil = (data.EDUCATION == 5) | (data.EDUCATION == 6) | (data.EDUCATION == 0)\n",
    "data.loc[fil, 'EDUCATION'] = 4\n",
    "data.EDUCATION.value_counts()\n",
    "data.loc[data.MARRIAGE == 0, 'MARRIAGE'] = 3"
   ]
  },
  {
   "cell_type": "code",
   "execution_count": 354,
   "metadata": {},
   "outputs": [],
   "source": [
    "# one hot encoding\n",
    "df1 = pd.get_dummies(data.SEX)\n",
    "df1.rename(columns = {1:'Male',2:'Female'}, inplace = True)\n",
    "df2 = pd.get_dummies(data.MARRIAGE)\n",
    "df2.rename(columns = {1:'Married',2:'Single',3:'Others'}, inplace = True)\n",
    "df3 = pd.get_dummies(data.EDUCATION)\n",
    "df3.rename(columns = {1:'GS',2:'HS',3:'Univ',4:'Other'}, inplace = True)\n",
    "data = pd.concat([data,df1,df2,df3], axis = 1)\n",
    "data.drop(labels=['SEX','MARRIAGE','EDUCATION'], axis =1, inplace = True)"
   ]
  },
  {
   "cell_type": "code",
   "execution_count": 355,
   "metadata": {},
   "outputs": [],
   "source": [
    "data.drop(['Unnamed: 0'],axis=1,inplace=True)"
   ]
  },
  {
   "cell_type": "code",
   "execution_count": 356,
   "metadata": {},
   "outputs": [
    {
     "name": "stdout",
     "output_type": "stream",
     "text": [
      "['ID', 'LIMIT_BAL', 'AGE', 'PAY_6', 'PAY_5', 'PAY_4', 'PAY_3', 'PAY_2', 'PAY_1', 'BILL_AMT6', 'BILL_AMT5', 'BILL_AMT4', 'BILL_AMT3', 'BILL_AMT2', 'BILL_AMT1', 'PAY_AMT6', 'PAY_AMT5', 'PAY_AMT4', 'PAY_AMT3', 'PAY_AMT2', 'PAY_AMT1', 'TARGET', 'Male', 'Female', 'Married', 'Single', 'Others', 'GS', 'HS', 'Univ', 'Other']\n"
     ]
    }
   ],
   "source": [
    "print (list(data))\n",
    "data.to_csv(\"final_one_hot.csv\")"
   ]
  },
  {
   "cell_type": "code",
   "execution_count": 357,
   "metadata": {},
   "outputs": [],
   "source": [
    "#data['TOTAL_MONTHS_DELAYED'] = data['PAY_1'] + data['PAY_2'] + data['PAY_3'] + data['PAY_4'] + data['PAY_5'] + data['PAY_6'] \n",
    "#data['TOTAL_BILL_AMT'] = data['BILL_AMT6'] + data['BILL_AMT5'] + data['BILL_AMT4'] + data['BILL_AMT3'] + data['BILL_AMT2'] + data['BILL_AMT1']\n",
    "#data['TOTAL_PAIED_AMT'] = data['PAY_AMT6'] + data['PAY_AMT5'] + data['PAY_AMT4'] + data['PAY_AMT3'] + data['PAY_AMT2'] + data['PAY_AMT1']"
   ]
  },
  {
   "cell_type": "code",
   "execution_count": 358,
   "metadata": {},
   "outputs": [
    {
     "name": "stdout",
     "output_type": "stream",
     "text": [
      "0    23364\n",
      "1     6636\n",
      "Name: TARGET, dtype: int64\n",
      "['ID', 'LIMIT_BAL', 'AGE', 'PAY_6', 'PAY_5', 'PAY_4', 'PAY_3', 'PAY_2', 'PAY_1', 'BILL_AMT6', 'BILL_AMT5', 'BILL_AMT4', 'BILL_AMT3', 'BILL_AMT2', 'BILL_AMT1', 'PAY_AMT6', 'PAY_AMT5', 'PAY_AMT4', 'PAY_AMT3', 'PAY_AMT2', 'PAY_AMT1', 'TARGET', 'Male', 'Female', 'Married', 'Single', 'Others', 'GS', 'HS', 'Univ', 'Other']\n"
     ]
    }
   ],
   "source": [
    "print (data['TARGET'].value_counts())\n",
    "print (list(data))"
   ]
  },
  {
   "cell_type": "code",
   "execution_count": 359,
   "metadata": {
    "collapsed": true
   },
   "outputs": [],
   "source": [
    "X = data.iloc[:, data.columns != 'TARGET']\n",
    "y = data.iloc[:, data.columns == 'TARGET']"
   ]
  },
  {
   "cell_type": "code",
   "execution_count": 360,
   "metadata": {
    "collapsed": true
   },
   "outputs": [],
   "source": [
    "X_train, X_test, y_train, y_test = train_test_split(X,y,test_size = 0.3, random_state = 0)"
   ]
  },
  {
   "cell_type": "code",
   "execution_count": 361,
   "metadata": {},
   "outputs": [
    {
     "name": "stdout",
     "output_type": "stream",
     "text": [
      "('Original number transactions train dataset: ', 21000)\n",
      "('Original number transactions test dataset: ', 9000)\n",
      "('Total number of transactions: ', 30000)\n"
     ]
    }
   ],
   "source": [
    "print(\"Original number transactions train dataset: \", len(X_train))\n",
    "print(\"Original number transactions test dataset: \", len(X_test))\n",
    "print(\"Total number of transactions: \", len(X_train)+len(X_test))\n"
   ]
  },
  {
   "cell_type": "code",
   "execution_count": 362,
   "metadata": {},
   "outputs": [
    {
     "name": "stdout",
     "output_type": "stream",
     "text": [
      "<class 'pandas.core.frame.DataFrame'>\n",
      "<class 'pandas.core.frame.DataFrame'>\n",
      "<class 'pandas.core.frame.DataFrame'>\n",
      "<class 'pandas.core.frame.DataFrame'>\n",
      "{0: 16304, 1: 4696}\n",
      "{0: 7060, 1: 1940}\n"
     ]
    }
   ],
   "source": [
    "print(type(y_train))\n",
    "print(type(y_test))\n",
    "print(type(X_train))\n",
    "print(type(X_test))\n",
    "unique_train, counts_train = np.unique(y_train, return_counts=True)\n",
    "print (dict(zip(unique_train, counts_train)))\n",
    "unique_test, counts_test = np.unique(y_test, return_counts=True)\n",
    "print (dict(zip(unique_test, counts_test)))"
   ]
  },
  {
   "cell_type": "code",
   "execution_count": 363,
   "metadata": {},
   "outputs": [
    {
     "data": {
      "text/html": [
       "<div>\n",
       "<style>\n",
       "    .dataframe thead tr:only-child th {\n",
       "        text-align: right;\n",
       "    }\n",
       "\n",
       "    .dataframe thead th {\n",
       "        text-align: left;\n",
       "    }\n",
       "\n",
       "    .dataframe tbody tr th {\n",
       "        vertical-align: top;\n",
       "    }\n",
       "</style>\n",
       "<table border=\"1\" class=\"dataframe\">\n",
       "  <thead>\n",
       "    <tr style=\"text-align: right;\">\n",
       "      <th></th>\n",
       "      <th>ID</th>\n",
       "      <th>LIMIT_BAL</th>\n",
       "      <th>AGE</th>\n",
       "      <th>PAY_6</th>\n",
       "      <th>PAY_5</th>\n",
       "      <th>PAY_4</th>\n",
       "      <th>PAY_3</th>\n",
       "      <th>PAY_2</th>\n",
       "      <th>PAY_1</th>\n",
       "      <th>BILL_AMT6</th>\n",
       "      <th>...</th>\n",
       "      <th>Male</th>\n",
       "      <th>Female</th>\n",
       "      <th>Married</th>\n",
       "      <th>Single</th>\n",
       "      <th>Others</th>\n",
       "      <th>GS</th>\n",
       "      <th>HS</th>\n",
       "      <th>Univ</th>\n",
       "      <th>Other</th>\n",
       "      <th>TARGET</th>\n",
       "    </tr>\n",
       "  </thead>\n",
       "  <tbody>\n",
       "    <tr>\n",
       "      <th>15925</th>\n",
       "      <td>15926</td>\n",
       "      <td>30000</td>\n",
       "      <td>31</td>\n",
       "      <td>-1</td>\n",
       "      <td>-1</td>\n",
       "      <td>-1</td>\n",
       "      <td>-1</td>\n",
       "      <td>-1</td>\n",
       "      <td>-1</td>\n",
       "      <td>0</td>\n",
       "      <td>...</td>\n",
       "      <td>0</td>\n",
       "      <td>1</td>\n",
       "      <td>0</td>\n",
       "      <td>1</td>\n",
       "      <td>0</td>\n",
       "      <td>0</td>\n",
       "      <td>1</td>\n",
       "      <td>0</td>\n",
       "      <td>0</td>\n",
       "      <td>0</td>\n",
       "    </tr>\n",
       "    <tr>\n",
       "      <th>10062</th>\n",
       "      <td>10063</td>\n",
       "      <td>200000</td>\n",
       "      <td>31</td>\n",
       "      <td>1</td>\n",
       "      <td>1</td>\n",
       "      <td>1</td>\n",
       "      <td>0</td>\n",
       "      <td>0</td>\n",
       "      <td>0</td>\n",
       "      <td>29070</td>\n",
       "      <td>...</td>\n",
       "      <td>1</td>\n",
       "      <td>0</td>\n",
       "      <td>1</td>\n",
       "      <td>0</td>\n",
       "      <td>0</td>\n",
       "      <td>0</td>\n",
       "      <td>1</td>\n",
       "      <td>0</td>\n",
       "      <td>0</td>\n",
       "      <td>0</td>\n",
       "    </tr>\n",
       "    <tr>\n",
       "      <th>19376</th>\n",
       "      <td>19377</td>\n",
       "      <td>500000</td>\n",
       "      <td>38</td>\n",
       "      <td>-1</td>\n",
       "      <td>-1</td>\n",
       "      <td>-1</td>\n",
       "      <td>-1</td>\n",
       "      <td>-1</td>\n",
       "      <td>-1</td>\n",
       "      <td>2252</td>\n",
       "      <td>...</td>\n",
       "      <td>0</td>\n",
       "      <td>1</td>\n",
       "      <td>0</td>\n",
       "      <td>1</td>\n",
       "      <td>0</td>\n",
       "      <td>0</td>\n",
       "      <td>0</td>\n",
       "      <td>0</td>\n",
       "      <td>1</td>\n",
       "      <td>0</td>\n",
       "    </tr>\n",
       "    <tr>\n",
       "      <th>6384</th>\n",
       "      <td>6385</td>\n",
       "      <td>20000</td>\n",
       "      <td>22</td>\n",
       "      <td>0</td>\n",
       "      <td>0</td>\n",
       "      <td>0</td>\n",
       "      <td>0</td>\n",
       "      <td>0</td>\n",
       "      <td>0</td>\n",
       "      <td>17807</td>\n",
       "      <td>...</td>\n",
       "      <td>0</td>\n",
       "      <td>1</td>\n",
       "      <td>0</td>\n",
       "      <td>1</td>\n",
       "      <td>0</td>\n",
       "      <td>0</td>\n",
       "      <td>1</td>\n",
       "      <td>0</td>\n",
       "      <td>0</td>\n",
       "      <td>0</td>\n",
       "    </tr>\n",
       "    <tr>\n",
       "      <th>15976</th>\n",
       "      <td>15977</td>\n",
       "      <td>50000</td>\n",
       "      <td>48</td>\n",
       "      <td>1</td>\n",
       "      <td>1</td>\n",
       "      <td>0</td>\n",
       "      <td>0</td>\n",
       "      <td>0</td>\n",
       "      <td>0</td>\n",
       "      <td>18704</td>\n",
       "      <td>...</td>\n",
       "      <td>0</td>\n",
       "      <td>1</td>\n",
       "      <td>1</td>\n",
       "      <td>0</td>\n",
       "      <td>0</td>\n",
       "      <td>0</td>\n",
       "      <td>1</td>\n",
       "      <td>0</td>\n",
       "      <td>0</td>\n",
       "      <td>1</td>\n",
       "    </tr>\n",
       "  </tbody>\n",
       "</table>\n",
       "<p>5 rows × 31 columns</p>\n",
       "</div>"
      ],
      "text/plain": [
       "          ID  LIMIT_BAL  AGE  PAY_6  PAY_5  PAY_4  PAY_3  PAY_2  PAY_1  \\\n",
       "15925  15926      30000   31     -1     -1     -1     -1     -1     -1   \n",
       "10062  10063     200000   31      1      1      1      0      0      0   \n",
       "19376  19377     500000   38     -1     -1     -1     -1     -1     -1   \n",
       "6384    6385      20000   22      0      0      0      0      0      0   \n",
       "15976  15977      50000   48      1      1      0      0      0      0   \n",
       "\n",
       "       BILL_AMT6   ...    Male  Female  Married  Single  Others  GS  HS  Univ  \\\n",
       "15925          0   ...       0       1        0       1       0   0   1     0   \n",
       "10062      29070   ...       1       0        1       0       0   0   1     0   \n",
       "19376       2252   ...       0       1        0       1       0   0   0     0   \n",
       "6384       17807   ...       0       1        0       1       0   0   1     0   \n",
       "15976      18704   ...       0       1        1       0       0   0   1     0   \n",
       "\n",
       "       Other  TARGET  \n",
       "15925      0       0  \n",
       "10062      0       0  \n",
       "19376      1       0  \n",
       "6384       0       0  \n",
       "15976      0       1  \n",
       "\n",
       "[5 rows x 31 columns]"
      ]
     },
     "execution_count": 363,
     "metadata": {},
     "output_type": "execute_result"
    }
   ],
   "source": [
    "train_data = pd.concat([X_train,y_train],axis=1)\n",
    "train_data.head()"
   ]
  },
  {
   "cell_type": "code",
   "execution_count": 375,
   "metadata": {},
   "outputs": [
    {
     "name": "stdout",
     "output_type": "stream",
     "text": [
      "[(0, 16304), (1, 16304)]\n"
     ]
    }
   ],
   "source": [
    "from imblearn.under_sampling import NearMiss\n",
    "from collections import Counter\n",
    "from imblearn.over_sampling import RandomOverSampler\n",
    "ros = RandomOverSampler(random_state=0)\n",
    "X_resampled, y_resampled = ros.fit_sample(X_train, y_train)\n",
    "#nm1 = NearMiss(random_state=0, version=1)\n",
    "#X_resampled_nm1, y_resampled = nm1.fit_sample(X_train, y_train)\n",
    "\n",
    "print(sorted(Counter(y_resampled).items()))\n",
    "X_undersample = pd.DataFrame(X_resampled)\n",
    "y_undersample = pd.DataFrame(y_resampled)\n",
    "X_train_undersample, X_test_undersample, y_train_undersample, y_test_undersample = train_test_split(X_undersample,y_undersample,test_size = 0.3,random_state = 0)"
   ]
  },
  {
   "cell_type": "code",
   "execution_count": 376,
   "metadata": {},
   "outputs": [],
   "source": [
    "from sklearn.linear_model import LogisticRegression\n",
    "from sklearn.tree import DecisionTreeClassifier\n",
    "from sklearn.ensemble import RandomForestClassifier\n",
    "from sklearn.cross_validation import KFold, cross_val_score\n",
    "from sklearn.metrics import confusion_matrix,precision_recall_curve,auc,roc_auc_score,roc_curve,recall_score,classification_report "
   ]
  },
  {
   "cell_type": "code",
   "execution_count": 377,
   "metadata": {},
   "outputs": [],
   "source": [
    "def printing_Kfold_scores(x_train_data,y_train_data,algo,c_param_range):\n",
    "    fold = KFold(len(y_train_data),5,shuffle=False) \n",
    "    print (fold)\n",
    "    # Different C parameters\n",
    "\n",
    "    results_table = pd.DataFrame(index = range(len(c_param_range),2), columns = ['C_parameter','Mean recall score'])\n",
    "    results_table['C_parameter'] = c_param_range\n",
    "\n",
    "    # the k-fold will give 2 lists: train_indices = indices[0], test_indices = indices[1]\n",
    "    j = 0\n",
    "    for c_param in c_param_range:\n",
    "        print('-------------------------------------------')\n",
    "        print('Hyper parameter: ', c_param)\n",
    "        print('-------------------------------------------')\n",
    "        print('')\n",
    "\n",
    "        recall_accs = []\n",
    "        for iteration, indices in enumerate(fold,start=1):\n",
    "\n",
    "            # Call the logistic regression model with a certain C parameter\n",
    "            if algo == \"DTC\":\n",
    "                lr = DecisionTreeClassifier(max_depth= c_param)\n",
    "            elif algo == \"RFC\":\n",
    "                lr = RandomForestClassifier(n_estimators= c_param,max_depth=11)\n",
    "            elif algo == \"LR\":\n",
    "                lr = LogisticRegression(C = c_param, penalty = 'l1')\n",
    "\n",
    "            # Use the training data to fit the model. In this case, we use the portion of the fold to train the model\n",
    "            # with indices[0]. We then predict on the portion assigned as the 'test cross validation' with indices[1]\n",
    "            lr.fit(x_train_data.iloc[indices[0],:],y_train_data.iloc[indices[0],:].values.ravel())\n",
    "\n",
    "            # Predict values using the test indices in the training data\n",
    "            y_pred_undersample = pd.DataFrame(lr.predict_proba(x_train_data.iloc[indices[1],:].values))[1]\n",
    "\n",
    "            # Calculate the recall score and append it to a list for recall scores representing the current c_parameter\n",
    "           # recall_acc = recall_score(y_train_data.iloc[indices[1],:].values,y_pred_undersample)\n",
    "            recall_acc = roc_auc_score(y_train_data.iloc[indices[1],:],y_pred_undersample)\n",
    "            recall_accs.append(recall_acc)\n",
    "            print('Iteration ', iteration,': recall score = ', recall_acc)\n",
    "\n",
    "        # The mean value of those recall scores is the metric we want to save and get hold of.\n",
    "        results_table.ix[j,'Mean recall score'] = np.mean(recall_accs)\n",
    "        j += 1\n",
    "        print('')\n",
    "        print('Mean recall score ', np.mean(recall_accs))\n",
    "        print('')\n",
    "\n",
    "    best_c = results_table.loc[results_table['Mean recall score'].idxmax()]['C_parameter']\n",
    "    \n",
    "    # Finally, we can check which C parameter is the best amongst the chosen.\n",
    "    print('*********************************************************************************')\n",
    "    print('Best model to choose from cross validation is with Hyper parameter = ', best_c)\n",
    "    print('*********************************************************************************')\n",
    "    \n",
    "    return best_c"
   ]
  },
  {
   "cell_type": "code",
   "execution_count": 378,
   "metadata": {},
   "outputs": [
    {
     "name": "stdout",
     "output_type": "stream",
     "text": [
      "sklearn.cross_validation.KFold(n=22825, n_folds=5, shuffle=False, random_state=None)\n",
      "-------------------------------------------\n",
      "('Hyper parameter: ', 20)\n",
      "-------------------------------------------\n",
      "\n",
      "('Iteration ', 1, ': recall score = ', 0.85431183757020746)\n",
      "('Iteration ', 2, ': recall score = ', 0.84474199646198167)\n",
      "('Iteration ', 3, ': recall score = ', 0.84527679385649146)\n",
      "('Iteration ', 4, ': recall score = ', 0.85529808265203966)\n",
      "('Iteration ', 5, ': recall score = ', 0.85387963683507961)\n",
      "\n",
      "('Mean recall score ', 0.85070166947516002)\n",
      "\n",
      "-------------------------------------------\n",
      "('Hyper parameter: ', 22)\n",
      "-------------------------------------------\n",
      "\n"
     ]
    },
    {
     "name": "stderr",
     "output_type": "stream",
     "text": [
      "C:\\Users\\Lenovo\\Anaconda2\\lib\\site-packages\\ipykernel_launcher.py:42: DeprecationWarning: \n",
      ".ix is deprecated. Please use\n",
      ".loc for label based indexing or\n",
      ".iloc for positional indexing\n",
      "\n",
      "See the documentation here:\n",
      "http://pandas.pydata.org/pandas-docs/stable/indexing.html#ix-indexer-is-deprecated\n"
     ]
    },
    {
     "name": "stdout",
     "output_type": "stream",
     "text": [
      "('Iteration ', 1, ': recall score = ', 0.85920633097217902)\n",
      "('Iteration ', 2, ': recall score = ', 0.84339019013777383)\n",
      "('Iteration ', 3, ': recall score = ', 0.84769791216702661)\n",
      "('Iteration ', 4, ': recall score = ', 0.85492723567747519)\n",
      "('Iteration ', 5, ': recall score = ', 0.8507776319340653)\n",
      "\n",
      "('Mean recall score ', 0.85119986017770388)\n",
      "\n",
      "-------------------------------------------\n",
      "('Hyper parameter: ', 24)\n",
      "-------------------------------------------\n",
      "\n",
      "('Iteration ', 1, ': recall score = ', 0.86113298906610236)\n",
      "('Iteration ', 2, ': recall score = ', 0.84218013872594488)\n",
      "('Iteration ', 3, ': recall score = ', 0.84520249580033591)\n",
      "('Iteration ', 4, ': recall score = ', 0.8544949647733765)\n",
      "('Iteration ', 5, ': recall score = ', 0.85588931754740449)\n",
      "\n",
      "('Mean recall score ', 0.85177998118263287)\n",
      "\n",
      "-------------------------------------------\n",
      "('Hyper parameter: ', 26)\n",
      "-------------------------------------------\n",
      "\n",
      "('Iteration ', 1, ': recall score = ', 0.85872310564337262)\n",
      "('Iteration ', 2, ': recall score = ', 0.84434830746362166)\n",
      "('Iteration ', 3, ': recall score = ', 0.84911859851211891)\n",
      "('Iteration ', 4, ': recall score = ', 0.85724512524339236)\n",
      "('Iteration ', 5, ': recall score = ', 0.85837869567604319)\n",
      "\n",
      "('Mean recall score ', 0.85356276650770968)\n",
      "\n",
      "-------------------------------------------\n",
      "('Hyper parameter: ', 28)\n",
      "-------------------------------------------\n",
      "\n",
      "('Iteration ', 1, ': recall score = ', 0.85649197044900882)\n",
      "('Iteration ', 2, ': recall score = ', 0.84800898171409611)\n",
      "('Iteration ', 3, ': recall score = ', 0.84904794816414686)\n",
      "('Iteration ', 4, ': recall score = ', 0.85734378743020723)\n",
      "('Iteration ', 5, ': recall score = ', 0.85941468085245243)\n",
      "\n",
      "('Mean recall score ', 0.85406147372198249)\n",
      "\n",
      "*********************************************************************************\n",
      "('Best model to choose from cross validation is with Hyper parameter = ', 28)\n",
      "*********************************************************************************\n"
     ]
    }
   ],
   "source": [
    "#c_param_range = [0.01,0.1,1,10,100]\n",
    "c_param_range = [20,22,24,26,28]\n",
    "algo = \"RFC\"\n",
    "best_c = printing_Kfold_scores(X_train_undersample,y_train_undersample,algo,c_param_range)"
   ]
  },
  {
   "cell_type": "code",
   "execution_count": 379,
   "metadata": {
    "collapsed": true
   },
   "outputs": [],
   "source": [
    "from sklearn.metrics import roc_curve, auc\n",
    "import matplotlib.pyplot as plt\n",
    "import numpy as np\n",
    "import seaborn"
   ]
  },
  {
   "cell_type": "code",
   "execution_count": 380,
   "metadata": {},
   "outputs": [
    {
     "data": {
      "text/plain": [
       "RandomForestClassifier(bootstrap=True, class_weight=None, criterion='gini',\n",
       "            max_depth=11, max_features='auto', max_leaf_nodes=None,\n",
       "            min_impurity_decrease=0.0, min_impurity_split=None,\n",
       "            min_samples_leaf=1, min_samples_split=2,\n",
       "            min_weight_fraction_leaf=0.0, n_estimators=28, n_jobs=1,\n",
       "            oob_score=False, random_state=None, verbose=0,\n",
       "            warm_start=False)"
      ]
     },
     "execution_count": 380,
     "metadata": {},
     "output_type": "execute_result"
    }
   ],
   "source": [
    "lr =  RandomForestClassifier(n_estimators= 28,max_depth=11)\n",
    "lr.fit(X_train_undersample,y_train_undersample.values.ravel())"
   ]
  },
  {
   "cell_type": "code",
   "execution_count": 381,
   "metadata": {},
   "outputs": [
    {
     "name": "stdout",
     "output_type": "stream",
     "text": [
      "             precision    recall  f1-score   support\n",
      "\n",
      "          0       0.88      0.80      0.84      7060\n",
      "          1       0.46      0.62      0.52      1940\n",
      "\n",
      "avg / total       0.79      0.76      0.77      9000\n",
      "\n",
      "0.772552605064\n"
     ]
    }
   ],
   "source": [
    "y_pred = pd.DataFrame(lr.predict_proba(X_test))[1]\n",
    "fpr, tpr, thresholds = roc_curve(y_test, y_pred)\n",
    "roc_auc = auc(fpr, tpr) # compute area under the curve\n",
    "roc=roc_auc_score(y_test,y_pred)\n",
    "y2 = np.where(y_pred > 0.47 , 1 ,0 )\n",
    "print (classification_report(y_test,y2))\n",
    "print (roc_auc)"
   ]
  },
  {
   "cell_type": "code",
   "execution_count": 382,
   "metadata": {},
   "outputs": [
    {
     "data": {
      "text/plain": [
       "(0.0, 1.0)"
      ]
     },
     "execution_count": 382,
     "metadata": {},
     "output_type": "execute_result"
    },
    {
     "data": {
      "image/png": "[encoded data removed]",
      "text/plain": [
       "<matplotlib.figure.Figure at 0x1276d940>"
      ]
     },
     "metadata": {},
     "output_type": "display_data"
    }
   ],
   "source": [
    "plt.figure()\n",
    "plt.plot(fpr, tpr, label='ROC curve (area = %0.2f)' % (roc_auc))\n",
    "plt.plot([0, 1], [0, 1], 'k--')\n",
    "plt.xlim([0.0, 1.0])\n",
    "plt.ylim([0.0, 1.05])\n",
    "plt.xlabel(\"False Positive Rate\")\n",
    "plt.ylabel(\"True Positive Rate\")\n",
    "#plt.title(\"Receiver operating characteristic\") \n",
    "# create the axis of thresholds (scores)\n",
    "ax2 = plt.gca().twinx()\n",
    "ax2.plot(fpr, thresholds, markeredgecolor='r',linestyle='dashed', color='r')\n",
    "ax2.set_ylabel('Threshold',color='r')\n",
    "ax2.set_ylim([thresholds[-1],thresholds[0]])\n",
    "ax2.set_xlim([fpr[0],fpr[-1]])\n",
    "#plt.savefig('roc_and_threshold.png')\n",
    "#plt.close()"
   ]
  },
  {
   "cell_type": "code",
   "execution_count": 383,
   "metadata": {},
   "outputs": [
    {
     "data": {
      "image/png": "[encoded data removed]",
      "text/plain": [
       "<matplotlib.figure.Figure at 0x1276d518>"
      ]
     },
     "metadata": {},
     "output_type": "display_data"
    }
   ],
   "source": [
    "cnf_matrix = confusion_matrix(y_test,y2)\n",
    "sns.heatmap(cnf_matrix,cmap=\"coolwarm_r\",annot=True,linewidths=0.5)\n",
    "plt.title(\"Confusion_matrix\")\n",
    "plt.xlabel(\"Predicted_class\")\n",
    "plt.ylabel(\"Real class\")\n",
    "plt.show()"
   ]
  },
  {
   "cell_type": "code",
   "execution_count": null,
   "metadata": {
    "collapsed": true
   },
   "outputs": [],
   "source": []
  },
  {
   "cell_type": "code",
   "execution_count": null,
   "metadata": {
    "collapsed": true
   },
   "outputs": [],
   "source": []
  },
  {
   "cell_type": "code",
   "execution_count": 338,
   "metadata": {},
   "outputs": [
    {
     "name": "stdout",
     "output_type": "stream",
     "text": [
      "('Number of records default : ', 6636)\n",
      "('Unser sample indices', array([    0,     1,    13, ...,  4288,  5353, 19290], dtype=int64))\n",
      "('Percentage of normal transactions: ', 0.5)\n",
      "('Percentage of fraud transactions: ', 0.5)\n",
      "('Total number of transactions in resampled data: ', 13272)\n",
      "\n",
      "('Number transactions train dataset: ', 9290)\n",
      "('Number transactions test dataset: ', 3982)\n",
      "('Total number of transactions: ', 13272)\n"
     ]
    }
   ],
   "source": [
    "# Number of data points in the minority class\n",
    "number_records_default = len(data[data.TARGET == 1])\n",
    "print (\"Number of records default : \", number_records_default)\n",
    "default_indices = np.array(data[data.TARGET == 1].index)\n",
    "\n",
    "# Picking the indices of the normal classes\n",
    "normal_indices = data[data.TARGET == 0].index\n",
    "\n",
    "# Out of the indices we picked, randomly select \"x\" number (number_records_fraud)\n",
    "random_normal_indices = np.random.choice(normal_indices, number_records_default, replace = False)\n",
    "random_normal_indices = np.array(random_normal_indices)\n",
    "\n",
    "# Appending the 2 indices\n",
    "under_sample_indices = np.concatenate([default_indices,random_normal_indices])\n",
    "print (\"Unser sample indices\", under_sample_indices)\n",
    "# Under sample dataset\n",
    "under_sample_data = data.iloc[under_sample_indices,:]\n",
    "\n",
    "X_undersample = under_sample_data.iloc[:, under_sample_data.columns != 'TARGET']\n",
    "y_undersample = under_sample_data.iloc[:, under_sample_data.columns == 'TARGET']\n",
    "\n",
    "# Showing ratio\n",
    "print(\"Percentage of normal transactions: \", len(under_sample_data[under_sample_data.TARGET == 0])/float(len(under_sample_data)))\n",
    "print(\"Percentage of fraud transactions: \", len(under_sample_data[under_sample_data.TARGET == 1])/float(len(under_sample_data)))\n",
    "print(\"Total number of transactions in resampled data: \", len(under_sample_data))\n",
    "\n",
    "# Undersampled dataset\n",
    "X_train_undersample, X_test_undersample, y_train_undersample, y_test_undersample = train_test_split(X_undersample\n",
    "                                                                                                   ,y_undersample\n",
    "                                                                                                   ,test_size = 0.3\n",
    "print ()                                                                                                   ,random_state = 0)\n",
    "print(\"\")\n",
    "print(\"Number transactions train dataset: \", len(X_train_undersample))\n",
    "print(\"Number transactions test dataset: \", len(X_test_undersample))\n",
    "print(\"Total number of transactions: \", len(X_train_undersample)+len(X_test_undersample))"
   ]
  },
  {
   "cell_type": "code",
   "execution_count": 294,
   "metadata": {},
   "outputs": [],
   "source": [
    "# Use this C_parameter to build the model with the sampling dataset and predict the classes in the whole test dataset\n",
    "#lr = LogisticRegression(C = best_c, penalty = 'l1')\n",
    "#lr =  RandomForestClassifier(n_estimators= 26,max_depth=6)\n",
    "#lr.fit(X_train_undersample,y_train_undersample.values.ravel())\n",
    "#y_pred = lr.predict(X_test)\n",
    "\n",
    "# Compute and plot confusion matrix\n",
    "#cnf_matrix = confusion_matrix(y_test,y_pred)\n",
    "\n",
    "#print(\"the recall for this model is :\",cnf_matrix[1,1]/float((cnf_matrix[1,1]+cnf_matrix[1,0])))\n",
    "#print (\"Accuracy for this model is :\", accuracy_score(y_test,y_pred))\n",
    "#fig= plt.figure(figsize=(6,3))# to plot the graph\n",
    "#print(\"TP\",cnf_matrix[1,1,]) # no of fraud transaction which are predicted fraud\n",
    "#print(\"TN\",cnf_matrix[0,0]) # no. of normal transaction which are predited normal\n",
    "#print(\"FP\",cnf_matrix[0,1]) # no of normal transaction which are predicted fraud\n",
    "#print(\"FN\",cnf_matrix[1,0]) # no of fraud Transaction which are predicted normal\n",
    "#sns.heatmap(cnf_matrix,cmap=\"coolwarm_r\",annot=True,linewidths=0.5)\n",
    "#plt.title(\"Confusion_matrix\")\n",
    "#plt.xlabel(\"Predicted_class\")\n",
    "#plt.ylabel(\"Real class\")\n",
    "#plt.show()"
   ]
  },
  {
   "cell_type": "code",
   "execution_count": 296,
   "metadata": {},
   "outputs": [],
   "source": [
    "#lr = LogisticRegression(C = best_c, penalty = 'l1') # l2 is about 90% recall\n",
    "#lr = RandomForestClassifier(n_estimators= 26,max_depth=9)\n",
    "#lr.fit(X_train_undersample,y_train_undersample.values.ravel())\n",
    "#y_pred_undersample = lr.predict(X_test_undersample.values)\n",
    "\n",
    "\n",
    "# Compute and plot confusion matrix\n",
    "#cnf_matrix = confusion_matrix(y_test_undersample,y_pred_undersample)\n",
    "#print(\"the recall for this model is :\",cnf_matrix[1,1]/float((cnf_matrix[1,1]+cnf_matrix[1,0])))\n",
    "#fig= plt.figure(figsize=(6,3))# to plot the graph\n",
    "#print(\"TP\",cnf_matrix[1,1,]) # no of fraud transaction which are predicted fraud\n",
    "#print(\"TN\",cnf_matrix[0,0]) # no. of normal transaction which are predited normal\n",
    "#print(\"FP\",cnf_matrix[0,1]) # no of normal transaction which are predicted fraud\n",
    "#print(\"FN\",cnf_matrix[1,0]) # no of fraud Transaction which are predicted normal\n",
    "#sns.heatmap(cnf_matrix,cmap=\"coolwarm_r\",annot=True,linewidths=0.5)\n",
    "#plt.title(\"Confusion_matrix\")\n",
    "#plt.xlabel(\"Predicted_class\")\n",
    "#plt.ylabel(\"Real class\")\n",
    "#plt.show()"
   ]
  }
 ],
 "metadata": {
  "kernelspec": {
   "display_name": "Python 2",
   "language": "python",
   "name": "python2"
  },
  "language_info": {
   "codemirror_mode": {
    "name": "ipython",
    "version": 2
   },
   "file_extension": ".py",
   "mimetype": "text/x-python",
   "name": "python",
   "nbconvert_exporter": "python",
   "pygments_lexer": "ipython2",
   "version": "2.7.14"
  }
 },
 "nbformat": 4,
 "nbformat_minor": 2
}
