{
 "cells": [
  {
   "cell_type": "code",
   "execution_count": 154,
   "metadata": {
    "collapsed": true
   },
   "outputs": [],
   "source": [
    "import numpy as np \n",
    "import pandas as pd\n",
    "%matplotlib inline\n",
    "import matplotlib.pyplot as plt  \n",
    "import seaborn as sns\n",
    "from scipy import stats\n",
    "from sklearn.model_selection import train_test_split\n",
    "from sklearn.linear_model import LogisticRegression\n",
    "from sklearn.metrics import accuracy_score"
   ]
  },
  {
   "cell_type": "code",
   "execution_count": 155,
   "metadata": {},
   "outputs": [
    {
     "name": "stdout",
     "output_type": "stream",
     "text": [
      "(30000, 26)\n"
     ]
    }
   ],
   "source": [
    "data = pd.read_csv('nt-1012.csv',header=0)\n",
    "data.head()\n",
    "list(data)\n",
    "print (data.shape)"
   ]
  },
  {
   "cell_type": "code",
   "execution_count": 156,
   "metadata": {},
   "outputs": [
    {
     "data": {
      "text/html": [
       "<div>\n",
       "<style>\n",
       "    .dataframe thead tr:only-child th {\n",
       "        text-align: right;\n",
       "    }\n",
       "\n",
       "    .dataframe thead th {\n",
       "        text-align: left;\n",
       "    }\n",
       "\n",
       "    .dataframe tbody tr th {\n",
       "        vertical-align: top;\n",
       "    }\n",
       "</style>\n",
       "<table border=\"1\" class=\"dataframe\">\n",
       "  <thead>\n",
       "    <tr style=\"text-align: right;\">\n",
       "      <th></th>\n",
       "      <th>Unnamed: 0</th>\n",
       "      <th>ID</th>\n",
       "      <th>LIMIT_BAL</th>\n",
       "      <th>SEX</th>\n",
       "      <th>EDUCATION</th>\n",
       "      <th>MARRIAGE</th>\n",
       "      <th>AGE</th>\n",
       "      <th>PAY_6</th>\n",
       "      <th>PAY_5</th>\n",
       "      <th>PAY_4</th>\n",
       "      <th>...</th>\n",
       "      <th>BILL_AMT3</th>\n",
       "      <th>BILL_AMT2</th>\n",
       "      <th>BILL_AMT1</th>\n",
       "      <th>PAY_AMT6</th>\n",
       "      <th>PAY_AMT5</th>\n",
       "      <th>PAY_AMT4</th>\n",
       "      <th>PAY_AMT3</th>\n",
       "      <th>PAY_AMT2</th>\n",
       "      <th>PAY_AMT1</th>\n",
       "      <th>TARGET</th>\n",
       "    </tr>\n",
       "  </thead>\n",
       "  <tbody>\n",
       "    <tr>\n",
       "      <th>0</th>\n",
       "      <td>0</td>\n",
       "      <td>1</td>\n",
       "      <td>20000</td>\n",
       "      <td>2</td>\n",
       "      <td>2</td>\n",
       "      <td>1</td>\n",
       "      <td>24</td>\n",
       "      <td>1</td>\n",
       "      <td>1</td>\n",
       "      <td>-1</td>\n",
       "      <td>...</td>\n",
       "      <td>0</td>\n",
       "      <td>0</td>\n",
       "      <td>0</td>\n",
       "      <td>0</td>\n",
       "      <td>689</td>\n",
       "      <td>0</td>\n",
       "      <td>0</td>\n",
       "      <td>0</td>\n",
       "      <td>0</td>\n",
       "      <td>1</td>\n",
       "    </tr>\n",
       "    <tr>\n",
       "      <th>1</th>\n",
       "      <td>1</td>\n",
       "      <td>2</td>\n",
       "      <td>120000</td>\n",
       "      <td>2</td>\n",
       "      <td>2</td>\n",
       "      <td>2</td>\n",
       "      <td>26</td>\n",
       "      <td>-1</td>\n",
       "      <td>1</td>\n",
       "      <td>0</td>\n",
       "      <td>...</td>\n",
       "      <td>3272</td>\n",
       "      <td>3455</td>\n",
       "      <td>3261</td>\n",
       "      <td>0</td>\n",
       "      <td>1000</td>\n",
       "      <td>1000</td>\n",
       "      <td>1000</td>\n",
       "      <td>0</td>\n",
       "      <td>2000</td>\n",
       "      <td>1</td>\n",
       "    </tr>\n",
       "    <tr>\n",
       "      <th>2</th>\n",
       "      <td>2</td>\n",
       "      <td>3</td>\n",
       "      <td>90000</td>\n",
       "      <td>2</td>\n",
       "      <td>2</td>\n",
       "      <td>2</td>\n",
       "      <td>34</td>\n",
       "      <td>0</td>\n",
       "      <td>0</td>\n",
       "      <td>0</td>\n",
       "      <td>...</td>\n",
       "      <td>14331</td>\n",
       "      <td>14948</td>\n",
       "      <td>15549</td>\n",
       "      <td>1518</td>\n",
       "      <td>1500</td>\n",
       "      <td>1000</td>\n",
       "      <td>1000</td>\n",
       "      <td>1000</td>\n",
       "      <td>5000</td>\n",
       "      <td>0</td>\n",
       "    </tr>\n",
       "    <tr>\n",
       "      <th>3</th>\n",
       "      <td>3</td>\n",
       "      <td>4</td>\n",
       "      <td>50000</td>\n",
       "      <td>2</td>\n",
       "      <td>2</td>\n",
       "      <td>1</td>\n",
       "      <td>37</td>\n",
       "      <td>0</td>\n",
       "      <td>0</td>\n",
       "      <td>0</td>\n",
       "      <td>...</td>\n",
       "      <td>28314</td>\n",
       "      <td>28959</td>\n",
       "      <td>29547</td>\n",
       "      <td>2000</td>\n",
       "      <td>2019</td>\n",
       "      <td>1200</td>\n",
       "      <td>1100</td>\n",
       "      <td>1069</td>\n",
       "      <td>1000</td>\n",
       "      <td>0</td>\n",
       "    </tr>\n",
       "    <tr>\n",
       "      <th>4</th>\n",
       "      <td>4</td>\n",
       "      <td>5</td>\n",
       "      <td>50000</td>\n",
       "      <td>1</td>\n",
       "      <td>2</td>\n",
       "      <td>1</td>\n",
       "      <td>57</td>\n",
       "      <td>-1</td>\n",
       "      <td>0</td>\n",
       "      <td>-1</td>\n",
       "      <td>...</td>\n",
       "      <td>20940</td>\n",
       "      <td>19146</td>\n",
       "      <td>19131</td>\n",
       "      <td>2000</td>\n",
       "      <td>36681</td>\n",
       "      <td>10000</td>\n",
       "      <td>9000</td>\n",
       "      <td>689</td>\n",
       "      <td>679</td>\n",
       "      <td>0</td>\n",
       "    </tr>\n",
       "  </tbody>\n",
       "</table>\n",
       "<p>5 rows × 26 columns</p>\n",
       "</div>"
      ],
      "text/plain": [
       "   Unnamed: 0  ID  LIMIT_BAL  SEX  EDUCATION  MARRIAGE  AGE  PAY_6  PAY_5  \\\n",
       "0           0   1      20000    2          2         1   24      1      1   \n",
       "1           1   2     120000    2          2         2   26     -1      1   \n",
       "2           2   3      90000    2          2         2   34      0      0   \n",
       "3           3   4      50000    2          2         1   37      0      0   \n",
       "4           4   5      50000    1          2         1   57     -1      0   \n",
       "\n",
       "   PAY_4   ...    BILL_AMT3  BILL_AMT2  BILL_AMT1  PAY_AMT6  PAY_AMT5  \\\n",
       "0     -1   ...            0          0          0         0       689   \n",
       "1      0   ...         3272       3455       3261         0      1000   \n",
       "2      0   ...        14331      14948      15549      1518      1500   \n",
       "3      0   ...        28314      28959      29547      2000      2019   \n",
       "4     -1   ...        20940      19146      19131      2000     36681   \n",
       "\n",
       "   PAY_AMT4  PAY_AMT3  PAY_AMT2  PAY_AMT1  TARGET  \n",
       "0         0         0         0         0       1  \n",
       "1      1000      1000         0      2000       1  \n",
       "2      1000      1000      1000      5000       0  \n",
       "3      1200      1100      1069      1000       0  \n",
       "4     10000      9000       689       679       0  \n",
       "\n",
       "[5 rows x 26 columns]"
      ]
     },
     "execution_count": 156,
     "metadata": {},
     "output_type": "execute_result"
    }
   ],
   "source": [
    "data.head()"
   ]
  },
  {
   "cell_type": "code",
   "execution_count": 157,
   "metadata": {},
   "outputs": [],
   "source": [
    "# one hot encoding\n",
    "df1 = pd.get_dummies(data.SEX)\n",
    "df1.rename(columns = {1:'Male',2:'Female'}, inplace = True)\n",
    "df2 = pd.get_dummies(data.MARRIAGE)\n",
    "df2.rename(columns = {1:'Married',2:'Single',3:'Others'}, inplace = True)\n",
    "df3 = pd.get_dummies(data.EDUCATION)\n",
    "df3.rename(columns = {1:'GS',2:'HS',3:'Univ',4:'Other'}, inplace = True)\n",
    "data = pd.concat([data,df1,df2,df3], axis = 1)\n",
    "data.drop(labels=['SEX','MARRIAGE','EDUCATION'], axis =1, inplace = True)"
   ]
  },
  {
   "cell_type": "code",
   "execution_count": 158,
   "metadata": {},
   "outputs": [],
   "source": [
    "data.drop(['Unnamed: 0'],axis=1,inplace=True)"
   ]
  },
  {
   "cell_type": "code",
   "execution_count": 159,
   "metadata": {},
   "outputs": [
    {
     "name": "stdout",
     "output_type": "stream",
     "text": [
      "['ID', 'LIMIT_BAL', 'AGE', 'PAY_6', 'PAY_5', 'PAY_4', 'PAY_3', 'PAY_2', 'PAY_1', 'BILL_AMT6', 'BILL_AMT5', 'BILL_AMT4', 'BILL_AMT3', 'BILL_AMT2', 'BILL_AMT1', 'PAY_AMT6', 'PAY_AMT5', 'PAY_AMT4', 'PAY_AMT3', 'PAY_AMT2', 'PAY_AMT1', 'TARGET', 'Male', 'Female', 0, 'Married', 'Single', 'GS', 'HS', 'Univ', 'Other']\n"
     ]
    }
   ],
   "source": [
    "print (list(data))"
   ]
  },
  {
   "cell_type": "code",
   "execution_count": 160,
   "metadata": {},
   "outputs": [],
   "source": [
    "#data['TOTAL_MONTHS_DELAYED'] = data['PAY_1'] + data['PAY_2'] + data['PAY_3'] + data['PAY_4'] + data['PAY_5'] + data['PAY_6'] \n",
    "#data['TOTAL_BILL_AMT'] = data['BILL_AMT6'] + data['BILL_AMT5'] + data['BILL_AMT4'] + data['BILL_AMT3'] + data['BILL_AMT2'] + data['BILL_AMT1']\n",
    "#data['TOTAL_PAIED_AMT'] = data['PAY_AMT6'] + data['PAY_AMT5'] + data['PAY_AMT4'] + data['PAY_AMT3'] + data['PAY_AMT2'] + data['PAY_AMT1']"
   ]
  },
  {
   "cell_type": "code",
   "execution_count": 161,
   "metadata": {},
   "outputs": [
    {
     "name": "stdout",
     "output_type": "stream",
     "text": [
      "0    23364\n",
      "1     6636\n",
      "Name: TARGET, dtype: int64\n",
      "['ID', 'LIMIT_BAL', 'AGE', 'PAY_6', 'PAY_5', 'PAY_4', 'PAY_3', 'PAY_2', 'PAY_1', 'BILL_AMT6', 'BILL_AMT5', 'BILL_AMT4', 'BILL_AMT3', 'BILL_AMT2', 'BILL_AMT1', 'PAY_AMT6', 'PAY_AMT5', 'PAY_AMT4', 'PAY_AMT3', 'PAY_AMT2', 'PAY_AMT1', 'TARGET', 'Male', 'Female', 0, 'Married', 'Single', 'GS', 'HS', 'Univ', 'Other']\n"
     ]
    }
   ],
   "source": [
    "print (data['TARGET'].value_counts())\n",
    "print (list(data))"
   ]
  },
  {
   "cell_type": "code",
   "execution_count": 162,
   "metadata": {
    "collapsed": true
   },
   "outputs": [],
   "source": [
    "X = data.iloc[:, data.columns != 'TARGET']\n",
    "y = data.iloc[:, data.columns == 'TARGET']"
   ]
  },
  {
   "cell_type": "code",
   "execution_count": 163,
   "metadata": {
    "collapsed": true
   },
   "outputs": [],
   "source": [
    "X_train, X_test, y_train, y_test = train_test_split(X,y,test_size = 0.3, random_state = 0)"
   ]
  },
  {
   "cell_type": "code",
   "execution_count": 164,
   "metadata": {},
   "outputs": [
    {
     "name": "stdout",
     "output_type": "stream",
     "text": [
      "('Original number transactions train dataset: ', 21000)\n",
      "('Original number transactions test dataset: ', 9000)\n",
      "('Total number of transactions: ', 30000)\n"
     ]
    }
   ],
   "source": [
    "print(\"Original number transactions train dataset: \", len(X_train))\n",
    "print(\"Original number transactions test dataset: \", len(X_test))\n",
    "print(\"Total number of transactions: \", len(X_train)+len(X_test))\n"
   ]
  },
  {
   "cell_type": "code",
   "execution_count": 165,
   "metadata": {},
   "outputs": [
    {
     "name": "stdout",
     "output_type": "stream",
     "text": [
      "<class 'pandas.core.frame.DataFrame'>\n",
      "<class 'pandas.core.frame.DataFrame'>\n",
      "<class 'pandas.core.frame.DataFrame'>\n",
      "<class 'pandas.core.frame.DataFrame'>\n",
      "{0: 16304, 1: 4696}\n",
      "{0: 7060, 1: 1940}\n"
     ]
    }
   ],
   "source": [
    "print(type(y_train))\n",
    "print(type(y_test))\n",
    "print(type(X_train))\n",
    "print(type(X_test))\n",
    "unique_train, counts_train = np.unique(y_train, return_counts=True)\n",
    "print (dict(zip(unique_train, counts_train)))\n",
    "unique_test, counts_test = np.unique(y_test, return_counts=True)\n",
    "print (dict(zip(unique_test, counts_test)))"
   ]
  },
  {
   "cell_type": "code",
   "execution_count": 166,
   "metadata": {},
   "outputs": [
    {
     "name": "stdout",
     "output_type": "stream",
     "text": [
      "('Number of records default : ', 6636)\n",
      "('Percentage of normal transactions: ', 0.5)\n",
      "('Percentage of fraud transactions: ', 0.5)\n",
      "('Total number of transactions in resampled data: ', 13272)\n",
      "\n",
      "('Number transactions train dataset: ', 9290)\n",
      "('Number transactions test dataset: ', 3982)\n",
      "('Total number of transactions: ', 13272)\n"
     ]
    }
   ],
   "source": [
    "# Number of data points in the minority class\n",
    "number_records_default = len(data[data.TARGET == 1])\n",
    "print (\"Number of records default : \", number_records_default)\n",
    "default_indices = np.array(data[data.TARGET == 1].index)\n",
    "\n",
    "# Picking the indices of the normal classes\n",
    "normal_indices = data[data.TARGET == 0].index\n",
    "\n",
    "# Out of the indices we picked, randomly select \"x\" number (number_records_fraud)\n",
    "random_normal_indices = np.random.choice(normal_indices, number_records_default, replace = False)\n",
    "random_normal_indices = np.array(random_normal_indices)\n",
    "\n",
    "# Appending the 2 indices\n",
    "under_sample_indices = np.concatenate([default_indices,random_normal_indices])\n",
    "\n",
    "# Under sample dataset\n",
    "under_sample_data = data.iloc[under_sample_indices,:]\n",
    "\n",
    "X_undersample = under_sample_data.iloc[:, under_sample_data.columns != 'TARGET']\n",
    "y_undersample = under_sample_data.iloc[:, under_sample_data.columns == 'TARGET']\n",
    "\n",
    "# Showing ratio\n",
    "print(\"Percentage of normal transactions: \", len(under_sample_data[under_sample_data.TARGET == 0])/float(len(under_sample_data)))\n",
    "print(\"Percentage of fraud transactions: \", len(under_sample_data[under_sample_data.TARGET == 1])/float(len(under_sample_data)))\n",
    "print(\"Total number of transactions in resampled data: \", len(under_sample_data))\n",
    "\n",
    "# Undersampled dataset\n",
    "X_train_undersample, X_test_undersample, y_train_undersample, y_test_undersample = train_test_split(X_undersample\n",
    "                                                                                                   ,y_undersample\n",
    "                                                                                                   ,test_size = 0.3\n",
    "                                                                                                   ,random_state = 0)\n",
    "print(\"\")\n",
    "print(\"Number transactions train dataset: \", len(X_train_undersample))\n",
    "print(\"Number transactions test dataset: \", len(X_test_undersample))\n",
    "print(\"Total number of transactions: \", len(X_train_undersample)+len(X_test_undersample))"
   ]
  },
  {
   "cell_type": "code",
   "execution_count": 167,
   "metadata": {},
   "outputs": [],
   "source": [
    "from sklearn.linear_model import LogisticRegression\n",
    "from sklearn.tree import DecisionTreeClassifier\n",
    "from sklearn.ensemble import RandomForestClassifier\n",
    "from sklearn.cross_validation import KFold, cross_val_score\n",
    "from sklearn.metrics import confusion_matrix,precision_recall_curve,auc,roc_auc_score,roc_curve,recall_score,classification_report "
   ]
  },
  {
   "cell_type": "code",
   "execution_count": 180,
   "metadata": {},
   "outputs": [],
   "source": [
    "def printing_Kfold_scores(x_train_data,y_train_data,algo,c_param_range):\n",
    "    fold = KFold(len(y_train_data),5,shuffle=False) \n",
    "    print (fold)\n",
    "    # Different C parameters\n",
    "\n",
    "    results_table = pd.DataFrame(index = range(len(c_param_range),2), columns = ['C_parameter','Mean recall score'])\n",
    "    results_table['C_parameter'] = c_param_range\n",
    "\n",
    "    # the k-fold will give 2 lists: train_indices = indices[0], test_indices = indices[1]\n",
    "    j = 0\n",
    "    for c_param in c_param_range:\n",
    "        print('-------------------------------------------')\n",
    "        print('Hyper parameter: ', c_param)\n",
    "        print('-------------------------------------------')\n",
    "        print('')\n",
    "\n",
    "        recall_accs = []\n",
    "        for iteration, indices in enumerate(fold,start=1):\n",
    "\n",
    "            # Call the logistic regression model with a certain C parameter\n",
    "            if algo == \"DTC\":\n",
    "                lr = DecisionTreeClassifier(max_depth= c_param)\n",
    "            elif algo == \"RFC\":\n",
    "                lr = RandomForestClassifier(n_estimators= 26,max_depth=c_param)\n",
    "            elif algo == \"LR\":\n",
    "                lr = LogisticRegression(C = c_param, penalty = 'l1')\n",
    "\n",
    "            # Use the training data to fit the model. In this case, we use the portion of the fold to train the model\n",
    "            # with indices[0]. We then predict on the portion assigned as the 'test cross validation' with indices[1]\n",
    "            lr.fit(x_train_data.iloc[indices[0],:],y_train_data.iloc[indices[0],:].values.ravel())\n",
    "\n",
    "            # Predict values using the test indices in the training data\n",
    "            y_pred_undersample = pd.DataFrame(lr.predict_proba(x_train_data.iloc[indices[1],:].values))[1]\n",
    "\n",
    "            # Calculate the recall score and append it to a list for recall scores representing the current c_parameter\n",
    "           # recall_acc = recall_score(y_train_data.iloc[indices[1],:].values,y_pred_undersample)\n",
    "            recall_acc = roc_auc_score(y_train_data.iloc[indices[1],:],y_pred_undersample)\n",
    "            recall_accs.append(recall_acc)\n",
    "            print('Iteration ', iteration,': recall score = ', recall_acc)\n",
    "\n",
    "        # The mean value of those recall scores is the metric we want to save and get hold of.\n",
    "        results_table.ix[j,'Mean recall score'] = np.mean(recall_accs)\n",
    "        j += 1\n",
    "        print('')\n",
    "        print('Mean recall score ', np.mean(recall_accs))\n",
    "        print('')\n",
    "\n",
    "    best_c = results_table.loc[results_table['Mean recall score'].idxmax()]['C_parameter']\n",
    "    \n",
    "    # Finally, we can check which C parameter is the best amongst the chosen.\n",
    "    print('*********************************************************************************')\n",
    "    print('Best model to choose from cross validation is with Hyper parameter = ', best_c)\n",
    "    print('*********************************************************************************')\n",
    "    \n",
    "    return best_c"
   ]
  },
  {
   "cell_type": "code",
   "execution_count": 183,
   "metadata": {},
   "outputs": [
    {
     "name": "stdout",
     "output_type": "stream",
     "text": [
      "sklearn.cross_validation.KFold(n=9290, n_folds=5, shuffle=False, random_state=None)\n",
      "-------------------------------------------\n",
      "('Hyper parameter: ', 7)\n",
      "-------------------------------------------\n",
      "\n",
      "('Iteration ', 1, ': recall score = ', 0.77137858115350078)\n",
      "('Iteration ', 2, ': recall score = ', 0.77287755527743007)\n",
      "('Iteration ', 3, ': recall score = ', 0.78514129517876841)\n",
      "('Iteration ', 4, ': recall score = ', 0.77012508157367943)\n",
      "('Iteration ', 5, ': recall score = ', 0.7775855473640283)\n",
      "\n",
      "('Mean recall score ', 0.77542161210948135)\n",
      "\n",
      "-------------------------------------------\n",
      "('Hyper parameter: ', 8)\n",
      "-------------------------------------------\n",
      "\n"
     ]
    },
    {
     "name": "stderr",
     "output_type": "stream",
     "text": [
      "C:\\Users\\Lenovo\\Anaconda2\\lib\\site-packages\\ipykernel_launcher.py:42: DeprecationWarning: \n",
      ".ix is deprecated. Please use\n",
      ".loc for label based indexing or\n",
      ".iloc for positional indexing\n",
      "\n",
      "See the documentation here:\n",
      "http://pandas.pydata.org/pandas-docs/stable/indexing.html#ix-indexer-is-deprecated\n"
     ]
    },
    {
     "name": "stdout",
     "output_type": "stream",
     "text": [
      "('Iteration ', 1, ': recall score = ', 0.77537962399698723)\n",
      "('Iteration ', 2, ': recall score = ', 0.77222106336624496)\n",
      "('Iteration ', 3, ': recall score = ', 0.77817097249645428)\n",
      "('Iteration ', 4, ': recall score = ', 0.76897928289346318)\n",
      "('Iteration ', 5, ': recall score = ', 0.77602529327212877)\n",
      "\n",
      "('Mean recall score ', 0.77415524720505569)\n",
      "\n",
      "-------------------------------------------\n",
      "('Hyper parameter: ', 9)\n",
      "-------------------------------------------\n",
      "\n",
      "('Iteration ', 1, ': recall score = ', 0.77396715043017306)\n",
      "('Iteration ', 2, ': recall score = ', 0.7750127474157511)\n",
      "('Iteration ', 3, ': recall score = ', 0.7873318687023183)\n",
      "('Iteration ', 4, ': recall score = ', 0.77164875619699147)\n",
      "('Iteration ', 5, ': recall score = ', 0.77325485695738849)\n",
      "\n",
      "('Mean recall score ', 0.77624307594052444)\n",
      "\n",
      "-------------------------------------------\n",
      "('Hyper parameter: ', 11)\n",
      "-------------------------------------------\n",
      "\n",
      "('Iteration ', 1, ': recall score = ', 0.77606558326815567)\n",
      "('Iteration ', 2, ': recall score = ', 0.76932450285078557)\n",
      "('Iteration ', 3, ': recall score = ', 0.78166916951713528)\n",
      "('Iteration ', 4, ': recall score = ', 0.76742315266767658)\n",
      "('Iteration ', 5, ': recall score = ', 0.77503013863773351)\n",
      "\n",
      "('Mean recall score ', 0.7739025093882973)\n",
      "\n",
      "-------------------------------------------\n",
      "('Hyper parameter: ', 12)\n",
      "-------------------------------------------\n",
      "\n",
      "('Iteration ', 1, ': recall score = ', 0.77113177486167839)\n",
      "('Iteration ', 2, ': recall score = ', 0.76867496407546476)\n",
      "('Iteration ', 3, ': recall score = ', 0.77840793218202209)\n",
      "('Iteration ', 4, ': recall score = ', 0.76625938749323352)\n",
      "('Iteration ', 5, ': recall score = ', 0.77008972040617607)\n",
      "\n",
      "('Mean recall score ', 0.77091275580371499)\n",
      "\n",
      "*********************************************************************************\n",
      "('Best model to choose from cross validation is with Hyper parameter = ', 9)\n",
      "*********************************************************************************\n"
     ]
    }
   ],
   "source": [
    "#c_param_range = [0.01,0.1,1,10,100]\n",
    "c_param_range = [7,8,9,11,12]\n",
    "algo = \"RFC\"\n",
    "best_c = printing_Kfold_scores(X_train_undersample,y_train_undersample,algo,c_param_range)"
   ]
  },
  {
   "cell_type": "code",
   "execution_count": 184,
   "metadata": {},
   "outputs": [
    {
     "name": "stdout",
     "output_type": "stream",
     "text": [
      "('the recall for this model is :', 0.6256463288521199)\n",
      "('TP', 1210)\n",
      "('TN', 1589)\n",
      "('FP', 459)\n",
      "('FN', 724)\n"
     ]
    },
    {
     "data": {
      "image/png": "[encoded data removed]",
      "text/plain": [
       "<matplotlib.figure.Figure at 0x13a64550>"
      ]
     },
     "metadata": {},
     "output_type": "display_data"
    }
   ],
   "source": [
    "#lr = LogisticRegression(C = best_c, penalty = 'l1') # l2 is about 90% recall\n",
    "lr = lr = RandomForestClassifier(n_estimators= 26,max_depth=9)\n",
    "lr.fit(X_train_undersample,y_train_undersample.values.ravel())\n",
    "y_pred_undersample = lr.predict(X_test_undersample.values)\n",
    "\n",
    "\n",
    "# Compute and plot confusion matrix\n",
    "cnf_matrix = confusion_matrix(y_test_undersample,y_pred_undersample)\n",
    "print(\"the recall for this model is :\",cnf_matrix[1,1]/float((cnf_matrix[1,1]+cnf_matrix[1,0])))\n",
    "fig= plt.figure(figsize=(6,3))# to plot the graph\n",
    "print(\"TP\",cnf_matrix[1,1,]) # no of fraud transaction which are predicted fraud\n",
    "print(\"TN\",cnf_matrix[0,0]) # no. of normal transaction which are predited normal\n",
    "print(\"FP\",cnf_matrix[0,1]) # no of normal transaction which are predicted fraud\n",
    "print(\"FN\",cnf_matrix[1,0]) # no of fraud Transaction which are predicted normal\n",
    "sns.heatmap(cnf_matrix,cmap=\"coolwarm_r\",annot=True,linewidths=0.5)\n",
    "plt.title(\"Confusion_matrix\")\n",
    "plt.xlabel(\"Predicted_class\")\n",
    "plt.ylabel(\"Real class\")\n",
    "plt.show()"
   ]
  },
  {
   "cell_type": "code",
   "execution_count": 177,
   "metadata": {},
   "outputs": [
    {
     "name": "stdout",
     "output_type": "stream",
     "text": [
      "('the recall for this model is :', 0.65206185567010311)\n",
      "('Accuracy for this model is :', 0.755)\n",
      "('TP', 1265)\n",
      "('TN', 5530)\n",
      "('FP', 1530)\n",
      "('FN', 675)\n"
     ]
    },
    {
     "data": {
      "image/png": "[encoded data removed]",
      "text/plain": [
       "<matplotlib.figure.Figure at 0x137d2cf8>"
      ]
     },
     "metadata": {},
     "output_type": "display_data"
    }
   ],
   "source": [
    "# Use this C_parameter to build the model with the sampling dataset and predict the classes in the whole test dataset\n",
    "#lr = LogisticRegression(C = best_c, penalty = 'l1')\n",
    "lr = lr = RandomForestClassifier(n_estimators= 26,max_depth=6)\n",
    "lr.fit(X_train_undersample,y_train_undersample.values.ravel())\n",
    "y_pred = lr.predict(X_test)\n",
    "\n",
    "# Compute and plot confusion matrix\n",
    "cnf_matrix = confusion_matrix(y_test,y_pred)\n",
    "\n",
    "print(\"the recall for this model is :\",cnf_matrix[1,1]/float((cnf_matrix[1,1]+cnf_matrix[1,0])))\n",
    "print (\"Accuracy for this model is :\", accuracy_score(y_test,y_pred))\n",
    "fig= plt.figure(figsize=(6,3))# to plot the graph\n",
    "print(\"TP\",cnf_matrix[1,1,]) # no of fraud transaction which are predicted fraud\n",
    "print(\"TN\",cnf_matrix[0,0]) # no. of normal transaction which are predited normal\n",
    "print(\"FP\",cnf_matrix[0,1]) # no of normal transaction which are predicted fraud\n",
    "print(\"FN\",cnf_matrix[1,0]) # no of fraud Transaction which are predicted normal\n",
    "sns.heatmap(cnf_matrix,cmap=\"coolwarm_r\",annot=True,linewidths=0.5)\n",
    "plt.title(\"Confusion_matrix\")\n",
    "plt.xlabel(\"Predicted_class\")\n",
    "plt.ylabel(\"Real class\")\n",
    "plt.show()"
   ]
  },
  {
   "cell_type": "code",
   "execution_count": 179,
   "metadata": {},
   "outputs": [
    {
     "name": "stdout",
     "output_type": "stream",
     "text": [
      "0.784585913087\n"
     ]
    }
   ],
   "source": [
    "lr = lr = RandomForestClassifier(n_estimators= 26,max_depth=9)\n",
    "lr.fit(X_train_undersample,y_train_undersample.values.ravel())\n",
    "y_pred = pd.DataFrame(lr.predict_proba(X_test))[1]\n",
    "roc=roc_auc_score(y_test,y_pred)\n",
    "print (roc)"
   ]
  },
  {
   "cell_type": "code",
   "execution_count": null,
   "metadata": {
    "collapsed": true
   },
   "outputs": [],
   "source": []
  },
  {
   "cell_type": "code",
   "execution_count": null,
   "metadata": {
    "collapsed": true
   },
   "outputs": [],
   "source": []
  }
 ],
 "metadata": {
  "kernelspec": {
   "display_name": "Python 2",
   "language": "python",
   "name": "python2"
  },
  "language_info": {
   "codemirror_mode": {
    "name": "ipython",
    "version": 2
   },
   "file_extension": ".py",
   "mimetype": "text/x-python",
   "name": "python",
   "nbconvert_exporter": "python",
   "pygments_lexer": "ipython2",
   "version": "2.7.14"
  }
 },
 "nbformat": 4,
 "nbformat_minor": 2
}
